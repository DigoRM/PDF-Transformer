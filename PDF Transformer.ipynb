{
 "cells": [
  {
   "cell_type": "code",
   "execution_count": 1,
   "id": "ff07688b",
   "metadata": {},
   "outputs": [],
   "source": [
    "from PIL import Image\n",
    "\n",
    "image_1 = Image.open(r'print1.jpeg')\n",
    "im_1 = image_1.convert('RGB')\n",
    "im_1.save(r'print1.pdf')"
   ]
  },
  {
   "cell_type": "code",
   "execution_count": 2,
   "id": "f51d39e8",
   "metadata": {},
   "outputs": [],
   "source": [
    "image_2 = Image.open(r'print2.jpeg')\n",
    "im_2 = image_2.convert('RGB')\n",
    "im_2.save(r'print2.pdf')"
   ]
  },
  {
   "cell_type": "code",
   "execution_count": 3,
   "id": "3e01fb41",
   "metadata": {},
   "outputs": [],
   "source": [
    "image_3 = Image.open(r'print3.jpeg')\n",
    "im_3 = image_3.convert('RGB')\n",
    "im_3.save(r'print3.pdf')"
   ]
  },
  {
   "cell_type": "code",
   "execution_count": 4,
   "id": "687fc385",
   "metadata": {},
   "outputs": [],
   "source": [
    "image_4 = Image.open(r'print4.jpeg')\n",
    "im_4 = image_4.convert('RGB')\n",
    "im_4.save(r'print4.pdf')"
   ]
  },
  {
   "cell_type": "code",
   "execution_count": 5,
   "id": "b8c45605",
   "metadata": {},
   "outputs": [],
   "source": [
    "image_5 = Image.open(r'print5.jpeg')\n",
    "im_5 = image_5.convert('RGB')\n",
    "im_5.save(r'print5.pdf')"
   ]
  },
  {
   "cell_type": "code",
   "execution_count": null,
   "id": "6802a4f4",
   "metadata": {},
   "outputs": [],
   "source": []
  }
 ],
 "metadata": {
  "kernelspec": {
   "display_name": "Python 3 (ipykernel)",
   "language": "python",
   "name": "python3"
  },
  "language_info": {
   "codemirror_mode": {
    "name": "ipython",
    "version": 3
   },
   "file_extension": ".py",
   "mimetype": "text/x-python",
   "name": "python",
   "nbconvert_exporter": "python",
   "pygments_lexer": "ipython3",
   "version": "3.10.5"
  }
 },
 "nbformat": 4,
 "nbformat_minor": 5
}
